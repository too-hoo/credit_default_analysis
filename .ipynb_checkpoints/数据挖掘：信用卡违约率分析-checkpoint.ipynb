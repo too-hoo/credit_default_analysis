{
 "cells": [
  {
   "cell_type": "markdown",
   "metadata": {},
   "source": [
    "# 39、数据挖掘实战（1）：信用卡违约率分析"
   ]
  },
  {
   "cell_type": "markdown",
   "metadata": {},
   "source": [
    "数据挖掘的过程中，我们经常会遇到一些问题，比如：如何选择各种分类器，到底选择哪个分类方法，是SVM，决策树，还是KNN？如何优化分类器的参数，以便得到更好的分类准确率？\n",
    "\n",
    "这两个问题都是数据挖掘的核心问题。当然对于一个新的项目，我们还有其他的问题需要了解，比如掌握数据探索可数据可视化的方式，还需要对数据的完整性和质量做评估。这些内容都需要掌握。\n",
    "\n",
    "通过三个实战目标完成信用卡的违约率的项目的实战：\n",
    "- 1、创建各种分类器，包括已将掌握的SVN、决策树、KNN分类器，以及随机森林分类器；\n",
    "- 2、掌握GridSearchCV工具，优化算法模型参数；\n",
    "- 3、使用Pipeline管道机制进行流水线作业。因为在做分类之前，我们需要一些准备过程，比如数据规范化，或者数据降维等。\n",
    "\n",
    "## 构建随机森林分类器\n",
    "我们已将学习过数据挖掘的十大经典算法。但是在实际的工作中，我们还会使用到随机森林。\n",
    "\n",
    "随机森林的英文是RandomForest，英文简写是RF。它实际上是一个包含多个决策树的分类器，每一个子分类器都是一颗CART分类回归树。所以随机森林既可以做分类，又可以做回归。当它做分类的时候，输出的结果是每个子分类器的分类结果中最多的那个。你可以理解是每个分类器都做投票。取得的投票最多的那个结果。当它做回归的时候，输出的结果是每棵CART数的回归结果的平均值。\n",
    "\n",
    "在sklearn中，我们使用RandomForestClassifier()构造随机森林模型，函数里面有一些常用的构造参数：\n",
    "\n",
    "|参数|解析|\n",
    "|--|--|\n",
    "|n_estimators|随机森林里面决策树的个数，默认是10|\n",
    "|criterion|决策树分裂的标准，默认是基尼系数（CART），也可以选择entropy（ID3算法）|\n",
    "|max_depth|决策树的最大深度，默认是None，也就是不限制决策树的深度。也可以设置一个整数，限制决策树的最大深度。|\n",
    "|n_jobs|拟合和预测的时候CPU的核数，默认是1，也可以是整数，如果是-1代表的是CPU的核数|\n",
    "\n",
    "当我们创建好之后，就可以使用fit函数拟合，使用predict函数预测。"
   ]
  },
  {
   "cell_type": "markdown",
   "metadata": {},
   "source": [
    "## 使用GridSearchCV工具对参数进行调优"
   ]
  },
  {
   "cell_type": "markdown",
   "metadata": {},
   "source": [
    "在做分类算法的时候，我们经常需要调节网络的参数（对应上面的构造参数），目的是得到更好的分类结果。实际上一个分类算法有很多的参数，取值的范围也比较广，那么如何调优呢？\n",
    "\n",
    "Python实际上给我们提供了一个很好的工具GridSearchCV，它是Python的参数自动搜索模块。我们只需要告诉它想要调优的参数有哪些以及参数的取值范围，它就会把所有的情况都跑一遍，然后告诉我们那个参数是最优的，结果如何。\n",
    "\n",
    "使用GridSearchCV模块的时候先引入工具包，方法如下："
   ]
  },
  {
   "cell_type": "code",
   "execution_count": null,
   "metadata": {},
   "outputs": [],
   "source": [
    "from sklearn.model_selection import GridSearchCV"
   ]
  },
  {
   "cell_type": "markdown",
   "metadata": {},
   "source": [
    "然后我们使用GridSearchCV(estimator,param_grid,cv=None,scoring=None)构造参数的自动搜索模块，这里有一些主要的参数需要说明：\n",
    "\n",
    "|参数|解析|\n",
    "|--|--|\n",
    "|estimator|代表我们想要采用的分类器，比如随机森林、决策树、SVN、KNN等|\n",
    "|param_grid|代表我们想要优化的参数以及取值，输入的是字典或者列表的形式|\n",
    "|cv|交叉验证折数，默认是None，代表使用三折交叉验证。也可以为整数，代表的是交叉验证的折数|\n",
    "|scoring|准确度的评价标准，默认是None，也就是需要使用score函数。也可以设置具体的评价标准，比如accuracy，f1等|\n",
    "\n",
    "构造完GridSearchCV之后，我们就可以使用fit函数拟合训练，使用predict函数进行预测，这时候预测采用的是最好优化参数情况下的分类器。\n",
    "\n",
    "这里列举一个简单的例子，使用sklearn自带的IRIS数据集，采用随机森林对IRIS数据分类。假设我们想要知道n_estimators在1-10的范围内取那个值的分类结果最好，可以编写代码："
   ]
  },
  {
   "cell_type": "code",
   "execution_count": 24,
   "metadata": {},
   "outputs": [
    {
     "name": "stdout",
     "output_type": "stream",
     "text": [
      " 最优分数：0.9667\n",
      " 最优参数： {'n_estimators': 3}\n"
     ]
    }
   ],
   "source": [
    "# -*- coding:utf-8 -*-\n",
    "# import warnings filter\n",
    "from warnings import simplefilter\n",
    "# ignore all future warnings，DeprecationWarning（未来和弃用）\n",
    "simplefilter(action='ignore', category=FutureWarning)\n",
    "simplefilter(action='ignore', category=DeprecationWarning)\n",
    "# 使用RandomForest 对IRIS数据集进行分类\n",
    "# 利用GridSearchCV寻找最优化参数\n",
    "from sklearn.ensemble import RandomForestClassifier\n",
    "from sklearn.model_selection import GridSearchCV\n",
    "from sklearn.datasets import load_iris\n",
    "# 采用随机森林的方式\n",
    "rf = RandomForestClassifier()\n",
    "parameters = {\"n_estimators\":range(1,11)}\n",
    "iris = load_iris()\n",
    "# 使用GridSearchCV进行参数调优\n",
    "clf = GridSearchCV(estimator=rf, param_grid=parameters)\n",
    "# 对iris数据集进行分类\n",
    "clf.fit(iris.data, iris.target)\n",
    "print(\" 最优分数：%.4lf\" %clf.best_score_)\n",
    "print(\" 最优参数：\", clf.best_params_)\n"
   ]
  },
  {
   "cell_type": "markdown",
   "metadata": {},
   "source": [
    "可以看到当我们采用随机森林作为分类器的时候，最优准确率是0.9667，当n_estimators=8的时候，是最优的参数，也就是随机森林一共有3个子决策树。"
   ]
  },
  {
   "cell_type": "markdown",
   "metadata": {},
   "source": [
    "上面的例子中其实会关系到sklearn的版本更新的警告提示，有未来的警告和未来弃用的警告提示，我们可以通过下面的命令查看sklearn的版本信息，适时更新。"
   ]
  },
  {
   "cell_type": "code",
   "execution_count": 20,
   "metadata": {},
   "outputs": [
    {
     "name": "stdout",
     "output_type": "stream",
     "text": [
      "sklearn: 0.21.2\n"
     ]
    }
   ],
   "source": [
    "# check scikit-learn version\n",
    "import sklearn\n",
    "print('sklearn: %s' % sklearn.__version__)"
   ]
  },
  {
   "cell_type": "markdown",
   "metadata": {},
   "source": [
    "## 使用Pipeline管道\n",
    "\n",
    "在做分类的时候往往都是用步骤的，比如先对数据进行规范化处理，也可以使用PCA方法(一种常用的降维的方法)对数据进行降维，最后使用分类器分类。\n",
    "\n",
    "Python有一种Pipeline管道机制。管道的机制就是让我们把每一步都按照顺序列下来，从而创建Pipline流水线作业。每一步都采用（'名称'，步骤）的方式来表示。\n",
    "\n",
    "我们需要先采用StandardScaler方法对数据规范化，即采用数据规范化为平均值为0，方差为1的正态分布，然后采用PCA方法对数据进行降维，最后采用随机森林进行分类。\n",
    "\n",
    "具体代码如下："
   ]
  },
  {
   "cell_type": "code",
   "execution_count": null,
   "metadata": {},
   "outputs": [],
   "source": [
    "from sklearn.model_selection import GridSearchCV\n",
    "pipeline = Pipeline([\n",
    "    ('scaler', StandardScaler()), # 正态分布\n",
    "    ('pca', PCA()),\n",
    "    ('randomforestclassifier', RandomForestClassifier())\n",
    "])"
   ]
  },
  {
   "cell_type": "markdown",
   "metadata": {},
   "source": [
    "那么我们现在使用Pipline管道机制，使用随机森林对IRIS数据集做一下分类。先使用StandardScaler方法对数据规范化，然后再用随机森林分类，代码编写如下："
   ]
  },
  {
   "cell_type": "code",
   "execution_count": 29,
   "metadata": {},
   "outputs": [
    {
     "name": "stdout",
     "output_type": "stream",
     "text": [
      " 最优分数： 0.9667\n",
      " 最优参数： {'randomforestclassifier__n_estimators': 4}\n"
     ]
    }
   ],
   "source": [
    "# -*- coding：utf-8 -*-\n",
    "# 使用 RandomForest 对IRIS数据集进行分类\n",
    "# 使用 GridSearchCV寻找最优化参数，使用Pipeline进行流水作业\n",
    "from sklearn.ensemble import RandomForestClassifier\n",
    "from sklearn.model_selection import GridSearchCV\n",
    "from sklearn.datasets import load_iris\n",
    "from sklearn.preprocessing import StandardScaler\n",
    "from sklearn.pipeline import Pipeline\n",
    "rf = RandomForestClassifier()\n",
    "parameters = {\"randomforestclassifier__n_estimators\":range(1,11)}\n",
    "iris = load_iris()\n",
    "pipeline = Pipeline([\n",
    "    ('scaler', StandardScaler()),\n",
    "    ('randomforestclassifier', rf)\n",
    "])\n",
    "# 使用GridSearchCV 进行参数的调优\n",
    "clf = GridSearchCV(estimator=pipeline, param_grid=parameters)\n",
    "# 对iris数据集进行分类拟合\n",
    "clf.fit(iris.data, iris.target)\n",
    "print(\" 最优分数： %.4lf\" %clf.best_score_)\n",
    "print(\" 最优参数：\", clf.best_params_)"
   ]
  },
  {
   "cell_type": "markdown",
   "metadata": {},
   "source": [
    "我们能够看到是否采用数据规范化对结果还是有一些影响的，有了GridSearchCV和Pipeline这两个工具之后，我们在使用分类器的时候就会方便很多。"
   ]
  },
  {
   "cell_type": "markdown",
   "metadata": {},
   "source": [
    "## 对信用卡违约率进行分析"
   ]
  },
  {
   "cell_type": "markdown",
   "metadata": {},
   "source": [
    "我们的项目为信用卡的违约率的项目，数据集为：\n",
    "\n",
    "这个数据集是台湾某银行2005年4月到9月的信用卡数据，数据集一共包括25个字段，具体的涵义如下：\n",
    "\n",
    "|字段|含义|\n",
    "|--|--|\n",
    "|ID|客户的ID|\n",
    "|LIMIT_BAL|可透支金额|\n",
    "|SEX|性别，男：1，女：2|\n",
    "|EDUCATION|教育程度，研究生：1，本科：2，高中：3, 其他：4|\n",
    "|MARRIAGE|婚姻，已婚：1，单身：2，其他：3|\n",
    "|AGE|年龄|\n",
    "|PAY_0|2005年9月客户的还款情况|\n",
    "|PAY_2|2005年8月客户的还款情况|\n",
    "|PAY_3|2005年7月客户的还款情况|\n",
    "|PAY_4|2005年6月客户的还款情况|\n",
    "|PAY_5|2005年5月客户的还款情况|\n",
    "|PAY_6|2005年4月客户的还款情况|\n",
    "|BILL_AMT1|2005年9月客户每月账单的金额|\n",
    "|BILL_AMT2|2005年8月客户每月账单的金额|\n",
    "|BILL_AMT3|2005年7月客户每月账单的金额|\n",
    "|BILL_AMT4|2005年6月客户每月账单的金额|\n",
    "|BILL_AMT5|2005年5月客户每月账单的金额|\n",
    "|BILL_AMT6|2005年4月客户每月账单的金额|\n",
    "|PAY_AMT1|2005年9月客户每月还款金额|\n",
    "|PAY_AMT2|2005年8月客户每月还款金额|\n",
    "|PAY_AMT3|2005年7月客户每月还款金额|\n",
    "|PAY_AMT4|2005年6月客户每月还款金额|\n",
    "|PAY_AMT5|2005年5月客户每月还款金额|\n",
    "|PAY_AMT6|2005年4月客户每月还款金额|\n",
    "|default.payment.next.month|下个月是否违约，违约：1，守约：0|"
   ]
  },
  {
   "cell_type": "markdown",
   "metadata": {},
   "source": [
    "现在我们的目标是要针对这个数据集构建一个分析信用卡违约率的分类器。具体选择哪个分类器，以及分类器的参数如何优化，我们可以使用GridSearchCV这个工具跑一遍。\n",
    "\n",
    "先整理一下整个项目的流程：\n",
    "- 数据获取\n",
    "- 准备阶段：数据探索->数据规范化->数据集划分\n",
    "- 分类阶段：模型创建->模型训练->模型评估\n",
    "![](信用卡违约分析流程.jpg)"
   ]
  },
  {
   "cell_type": "markdown",
   "metadata": {},
   "source": [
    "1、加载数据；\n",
    "\n",
    "2、准备阶段：数据探索，采用数据可视化的方式可以让我们对数据有更加直观的了解，比如我们想要了解信用卡违约率和不违约率的人数。因为数据集没有专门的测试集，我们需要使用train_test_split划分数据集。\n",
    "\n",
    "3、分类阶段：之所以把数据规范化放到这个计算是因为我们可以使用Pipeline管道机制，将数据规范化设置为第一步，分类设置为第二步。因为我们不知道采用哪个分类器效果好，所以我们需要多用几个分类器，比如：SVM、决策树、随机森林和KNN。然后通过GridSearchCV工具，找到每个分类器的最优参数和最优分数，最终找到最适合这个项目的分类器和该分类器的参数。\n",
    "\n",
    "基于上述的流程，代码编写如下所示："
   ]
  },
  {
   "cell_type": "code",
   "execution_count": 4,
   "metadata": {},
   "outputs": [
    {
     "name": "stdout",
     "output_type": "stream",
     "text": [
      "(30000, 25)\n",
      "                 ID       LIMIT_BAL           SEX     EDUCATION      MARRIAGE  \\\n",
      "count  30000.000000    30000.000000  30000.000000  30000.000000  30000.000000   \n",
      "mean   15000.500000   167484.322667      1.603733      1.853133      1.551867   \n",
      "std     8660.398374   129747.661567      0.489129      0.790349      0.521970   \n",
      "min        1.000000    10000.000000      1.000000      0.000000      0.000000   \n",
      "25%     7500.750000    50000.000000      1.000000      1.000000      1.000000   \n",
      "50%    15000.500000   140000.000000      2.000000      2.000000      2.000000   \n",
      "75%    22500.250000   240000.000000      2.000000      2.000000      2.000000   \n",
      "max    30000.000000  1000000.000000      2.000000      6.000000      3.000000   \n",
      "\n",
      "                AGE         PAY_0         PAY_2         PAY_3         PAY_4  \\\n",
      "count  30000.000000  30000.000000  30000.000000  30000.000000  30000.000000   \n",
      "mean      35.485500     -0.016700     -0.133767     -0.166200     -0.220667   \n",
      "std        9.217904      1.123802      1.197186      1.196868      1.169139   \n",
      "min       21.000000     -2.000000     -2.000000     -2.000000     -2.000000   \n",
      "25%       28.000000     -1.000000     -1.000000     -1.000000     -1.000000   \n",
      "50%       34.000000      0.000000      0.000000      0.000000      0.000000   \n",
      "75%       41.000000      0.000000      0.000000      0.000000      0.000000   \n",
      "max       79.000000      8.000000      8.000000      8.000000      8.000000   \n",
      "\n",
      "       ...      BILL_AMT4      BILL_AMT5      BILL_AMT6       PAY_AMT1  \\\n",
      "count  ...   30000.000000   30000.000000   30000.000000   30000.000000   \n",
      "mean   ...   43262.948967   40311.400967   38871.760400    5663.580500   \n",
      "std    ...   64332.856134   60797.155770   59554.107537   16563.280354   \n",
      "min    ... -170000.000000  -81334.000000 -339603.000000       0.000000   \n",
      "25%    ...    2326.750000    1763.000000    1256.000000    1000.000000   \n",
      "50%    ...   19052.000000   18104.500000   17071.000000    2100.000000   \n",
      "75%    ...   54506.000000   50190.500000   49198.250000    5006.000000   \n",
      "max    ...  891586.000000  927171.000000  961664.000000  873552.000000   \n",
      "\n",
      "           PAY_AMT2      PAY_AMT3       PAY_AMT4       PAY_AMT5  \\\n",
      "count  3.000000e+04   30000.00000   30000.000000   30000.000000   \n",
      "mean   5.921163e+03    5225.68150    4826.076867    4799.387633   \n",
      "std    2.304087e+04   17606.96147   15666.159744   15278.305679   \n",
      "min    0.000000e+00       0.00000       0.000000       0.000000   \n",
      "25%    8.330000e+02     390.00000     296.000000     252.500000   \n",
      "50%    2.009000e+03    1800.00000    1500.000000    1500.000000   \n",
      "75%    5.000000e+03    4505.00000    4013.250000    4031.500000   \n",
      "max    1.684259e+06  896040.00000  621000.000000  426529.000000   \n",
      "\n",
      "            PAY_AMT6  default.payment.next.month  \n",
      "count   30000.000000                30000.000000  \n",
      "mean     5215.502567                    0.221200  \n",
      "std     17777.465775                    0.415062  \n",
      "min         0.000000                    0.000000  \n",
      "25%       117.750000                    0.000000  \n",
      "50%      1500.000000                    0.000000  \n",
      "75%      4000.000000                    0.000000  \n",
      "max    528666.000000                    1.000000  \n",
      "\n",
      "[8 rows x 25 columns]\n",
      "0    23364\n",
      "1     6636\n",
      "Name: default.payment.next.month, dtype: int64\n"
     ]
    },
    {
     "data": {
      "image/png": "[encoded data removed]",
      "text/plain": [
       "<Figure size 432x432 with 1 Axes>"
      ]
     },
     "metadata": {
      "needs_background": "light"
     },
     "output_type": "display_data"
    },
    {
     "name": "stderr",
     "output_type": "stream",
     "text": [
      "/usr/local/lib/python3.6/dist-packages/sklearn/model_selection/_split.py:1978: FutureWarning: The default value of cv will change from 3 to 5 in version 0.22. Specify it explicitly to silence this warning.\n",
      "  warnings.warn(CV_WARNING, FutureWarning)\n"
     ]
    },
    {
     "name": "stdout",
     "output_type": "stream",
     "text": [
      "GridSearch 最优参数： {'svc__C': 1, 'svc__gamma': 0.01}\n",
      "GridSearch 最优分数：0.8174\n",
      " 准确率 0.8172\n"
     ]
    },
    {
     "name": "stderr",
     "output_type": "stream",
     "text": [
      "/usr/local/lib/python3.6/dist-packages/sklearn/model_selection/_split.py:1978: FutureWarning: The default value of cv will change from 3 to 5 in version 0.22. Specify it explicitly to silence this warning.\n",
      "  warnings.warn(CV_WARNING, FutureWarning)\n"
     ]
    },
    {
     "name": "stdout",
     "output_type": "stream",
     "text": [
      "GridSearch 最优参数： {'decisiontreeclassifier__max_depth': 6}\n",
      "GridSearch 最优分数：0.8186\n",
      " 准确率 0.8113\n"
     ]
    },
    {
     "name": "stderr",
     "output_type": "stream",
     "text": [
      "/usr/local/lib/python3.6/dist-packages/sklearn/model_selection/_split.py:1978: FutureWarning: The default value of cv will change from 3 to 5 in version 0.22. Specify it explicitly to silence this warning.\n",
      "  warnings.warn(CV_WARNING, FutureWarning)\n"
     ]
    },
    {
     "name": "stdout",
     "output_type": "stream",
     "text": [
      "GridSearch 最优参数： {'randomforestclassifier__n_estimators': 6}\n",
      "GridSearch 最优分数：0.7998\n",
      " 准确率 0.7994\n"
     ]
    },
    {
     "name": "stderr",
     "output_type": "stream",
     "text": [
      "/usr/local/lib/python3.6/dist-packages/sklearn/model_selection/_split.py:1978: FutureWarning: The default value of cv will change from 3 to 5 in version 0.22. Specify it explicitly to silence this warning.\n",
      "  warnings.warn(CV_WARNING, FutureWarning)\n"
     ]
    },
    {
     "name": "stdout",
     "output_type": "stream",
     "text": [
      "GridSearch 最优参数： {'kneighborsclassifier__n_neighbors': 8}\n",
      "GridSearch 最优分数：0.8040\n",
      " 准确率 0.8036\n"
     ]
    }
   ],
   "source": [
    "# -*-coding:utf-8 -*- \n",
    "# 信用卡违约率分析\n",
    "import pandas as pd\n",
    "from sklearn.model_selection import learning_curve, train_test_split, GridSearchCV\n",
    "from sklearn.preprocessing import StandardScaler\n",
    "from sklearn.pipeline import Pipeline\n",
    "from sklearn.metrics import accuracy_score\n",
    "from sklearn.svm import SVC\n",
    "from sklearn.tree import DecisionTreeClassifier\n",
    "from sklearn.ensemble import RandomForestClassifier\n",
    "from sklearn.neighbors import KNeighborsClassifier\n",
    "from matplotlib import pyplot as plt\n",
    "import seaborn as sns\n",
    "# 加载数据\n",
    "data = data = pd.read_csv('./UCI_Credit_Card.csv')\n",
    "# 数据探索\n",
    "print(data.shape) # 查看数据集大小\n",
    "print(data.describe()) # 数据集概览\n",
    "# 查看下一个月违约率的情况\n",
    "next_month = data['default.payment.next.month'].value_counts()\n",
    "print(next_month)\n",
    "df = pd.DataFrame({'default.payment.next.month': next_month.index, 'values': next_month.values})\n",
    "plt.rcParams['font.sans-serif'] = ['SimHei'] # 用于正常显示文标签\n",
    "plt.figure(figsize = (6,6))\n",
    "plt.title('信用卡违约率客户\\n (违约：1，守约：0)')\n",
    "sns.set_color_codes(\"pastel\")\n",
    "sns.barplot(x = 'default.payment.next.month', y = \"values\", data = df)\n",
    "locs, labels = plt.xticks()\n",
    "plt.show()\n",
    "# 特征选择，去掉ID字段、最后一个结果字段即可\n",
    "data.drop(['ID'], inplace=True, axis = 1) # ID 这个字段没有用\n",
    "target = data['default.payment.next.month'].values\n",
    "columns = data.columns.tolist()\n",
    "columns.remove('default.payment.next.month')\n",
    "features = data[columns].values\n",
    "# 30%作为测试集，其余作为训练集\n",
    "train_x, test_x, train_y, test_y = train_test_split(features, target, test_size=0.30, stratify = target, random_state = 1)\n",
    "\n",
    "# 构造各种分类器\n",
    "classifiers = [\n",
    "    SVC(random_state = 1, kernel = 'rbf'),\n",
    "    DecisionTreeClassifier(random_state = 1, criterion = 'gini'),\n",
    "    RandomForestClassifier(random_state = 1, criterion = 'gini'),\n",
    "    KNeighborsClassifier(metric = 'minkowski'),\n",
    "]\n",
    "# 分类器名称\n",
    "classifier_names =[\n",
    "    'svc',\n",
    "    'decisiontreeclassifier',\n",
    "    'randomforestclassifier',\n",
    "    'kneighborsclassifier',\n",
    "]\n",
    "# 分类器参数\n",
    "classifier_param_grid = [\n",
    "    {'svc__C':[1], 'svc__gamma':[0.01]},\n",
    "    {'decisiontreeclassifier__max_depth':[6,9,11]}, # 决策树中设置三种最大深度，\n",
    "    {'randomforestclassifier__n_estimators':[3,5,6]}, # 设置三个决策树的深度取值，\n",
    "    {'kneighborsclassifier__n_neighbors':[4,6,8]}, # 深度取值，\n",
    "]\n",
    "# 对具体的分类器进行GridSearchCV参数调优\n",
    "def GridSearchCV_work(pipeline, train_x, train_y, test_x, test_y, param_grid, score = 'accuracy'):\n",
    "    response = {}\n",
    "    gridsearch = GridSearchCV(estimator = pipeline, param_grid = param_grid, scoring = score)\n",
    "    # 寻找最优的参数 和最优的准确率分数\n",
    "    search = gridsearch.fit(train_x, train_y)\n",
    "    print(\"GridSearch 最优参数：\", search.best_params_)\n",
    "    print(\"GridSearch 最优分数：%0.4lf\" %search.best_score_) \n",
    "    predict_y = gridsearch.predict(test_x)\n",
    "    print(\" 准确率 %0.4lf\" %accuracy_score(test_y, predict_y))\n",
    "    response['predict_y'] = predict_y\n",
    "    response['accuracy_score'] = accuracy_score(test_y, predict_y)\n",
    "    return response\n",
    "\n",
    "for model, model_name, model_param_grid in zip(classifiers, classifier_names, classifier_param_grid):\n",
    "    pipeline = Pipeline([\n",
    "        ('scaler', StandardScaler()),\n",
    "        (model_name, model)\n",
    "    ])\n",
    "    result = GridSearchCV_work(pipeline, train_x, train_y, test_x, test_y, model_param_grid, score = 'accuracy')"
   ]
  },
  {
   "cell_type": "markdown",
   "metadata": {},
   "source": [
    "从结果中我们能够看到SVM分类器的准确率最高，测试的准确率为0.8172\n",
    "\n",
    "在决策树的分类中，设置了三种的最大深度，当最大深度=6时结果最优，测试的准确率为0.8113; 在随机森林分类中，设置了3个决策树个数的取值，取值为6时结果最优，测试准确率为0.7994；在KNN分类中，设置了三个n的取值，取值为8时结果最优，测试准确率为0.8036。"
   ]
  },
  {
   "cell_type": "markdown",
   "metadata": {},
   "source": [
    "## 总结\n",
    "1、本节中我们学习了随机森林的概念以及工具的使用，另外针对数据挖掘算法中常用的参数调优时，使用了GridSearchCV这个工具利器。并将两者结合起来，在信用违约分析这个项目中进行了使用。\n",
    "\n",
    "2、很多时候，我们不知道该采用哪种分类的算法更加合适。即便是对于一种分类算法，也有很多参数可以调优，每个参数都有一定的取值范围。我们可以把想要采集的分类器，以及这些参数的取值范围都设置到数组里面，然后使用GridSearchCV工具进行调优。\n",
    "\n",
    "3、信用卡违约率分析\n",
    "- 随机森林\n",
    "    - 概念：一个包含多个决策树的分类器，每一个子分类器都是一颗CART分类回归树\n",
    "    - 构造函数RandomForestClassifier\n",
    "        - n_estimators:森林里决策树的个数，默认是10\n",
    "        - criterion：决策树分裂的标准，默认是gini（CART算法）,也可以选择entropy（ID3算法）\n",
    "        - max_depth：默认的是None，也可以设置多个整数\n",
    "        - n_jobs：拟合和预测的时候CPU的核树，默认是1，也可以是整数，如果是-1则代表CPU的核数\n",
    "    - 功能函数\n",
    "        - fit()函数进行拟合\n",
    "        - predict()函数进行和预测\n",
    "- GridSearchCV工具\n",
    "    - 作用：对模型参数就进行调优\n",
    "    - 构造函数GridSearchCV()\n",
    "        - estimator:代表我们采用的分类器，比如随机森林，决策树，SVM，KNN等\n",
    "        - param_grid:代表我们先要优化的参数以及取值，是字典或者是列表的结果\n",
    "        - cv：交叉验证的折数，默认是None，代表使用三折交叉验证。也可以为整数，\n",
    "        - scoring: 准准确度的评价标准，默认为None，也就是需要使用score函数，也可以设置具体的评价标准，比如accuracy，f1等。\n",
    "    - 功能函数：\n",
    "        - fit()函数进行拟合\n",
    "        - predict()函数进行预测\n",
    "- Pipeline管道机制\n",
    "    - 概念：把每一步按照顺序列下来，从而进行Pipeline流水线作业。\n",
    "    - 构造：每一步都采用（‘名称’，步骤）的方式来表示。\n",
    "- 项目流程\n",
    "    - 准备阶段：数据探索，数据可视化，数据集划分\n",
    "    - 分类阶段：Pipeline设置，GridSearchCV设置，分类器训练\n",
    "    \n",
    "![](信用卡违约率分析.png)"
   ]
  },
  {
   "cell_type": "markdown",
   "metadata": {},
   "source": [
    "### 练习：加上AdaBoost分类器，比较。"
   ]
  },
  {
   "cell_type": "code",
   "execution_count": 5,
   "metadata": {},
   "outputs": [
    {
     "name": "stdout",
     "output_type": "stream",
     "text": [
      "(30000, 25)\n",
      "                 ID       LIMIT_BAL           SEX     EDUCATION      MARRIAGE  \\\n",
      "count  30000.000000    30000.000000  30000.000000  30000.000000  30000.000000   \n",
      "mean   15000.500000   167484.322667      1.603733      1.853133      1.551867   \n",
      "std     8660.398374   129747.661567      0.489129      0.790349      0.521970   \n",
      "min        1.000000    10000.000000      1.000000      0.000000      0.000000   \n",
      "25%     7500.750000    50000.000000      1.000000      1.000000      1.000000   \n",
      "50%    15000.500000   140000.000000      2.000000      2.000000      2.000000   \n",
      "75%    22500.250000   240000.000000      2.000000      2.000000      2.000000   \n",
      "max    30000.000000  1000000.000000      2.000000      6.000000      3.000000   \n",
      "\n",
      "                AGE         PAY_0         PAY_2         PAY_3         PAY_4  \\\n",
      "count  30000.000000  30000.000000  30000.000000  30000.000000  30000.000000   \n",
      "mean      35.485500     -0.016700     -0.133767     -0.166200     -0.220667   \n",
      "std        9.217904      1.123802      1.197186      1.196868      1.169139   \n",
      "min       21.000000     -2.000000     -2.000000     -2.000000     -2.000000   \n",
      "25%       28.000000     -1.000000     -1.000000     -1.000000     -1.000000   \n",
      "50%       34.000000      0.000000      0.000000      0.000000      0.000000   \n",
      "75%       41.000000      0.000000      0.000000      0.000000      0.000000   \n",
      "max       79.000000      8.000000      8.000000      8.000000      8.000000   \n",
      "\n",
      "       ...      BILL_AMT4      BILL_AMT5      BILL_AMT6       PAY_AMT1  \\\n",
      "count  ...   30000.000000   30000.000000   30000.000000   30000.000000   \n",
      "mean   ...   43262.948967   40311.400967   38871.760400    5663.580500   \n",
      "std    ...   64332.856134   60797.155770   59554.107537   16563.280354   \n",
      "min    ... -170000.000000  -81334.000000 -339603.000000       0.000000   \n",
      "25%    ...    2326.750000    1763.000000    1256.000000    1000.000000   \n",
      "50%    ...   19052.000000   18104.500000   17071.000000    2100.000000   \n",
      "75%    ...   54506.000000   50190.500000   49198.250000    5006.000000   \n",
      "max    ...  891586.000000  927171.000000  961664.000000  873552.000000   \n",
      "\n",
      "           PAY_AMT2      PAY_AMT3       PAY_AMT4       PAY_AMT5  \\\n",
      "count  3.000000e+04   30000.00000   30000.000000   30000.000000   \n",
      "mean   5.921163e+03    5225.68150    4826.076867    4799.387633   \n",
      "std    2.304087e+04   17606.96147   15666.159744   15278.305679   \n",
      "min    0.000000e+00       0.00000       0.000000       0.000000   \n",
      "25%    8.330000e+02     390.00000     296.000000     252.500000   \n",
      "50%    2.009000e+03    1800.00000    1500.000000    1500.000000   \n",
      "75%    5.000000e+03    4505.00000    4013.250000    4031.500000   \n",
      "max    1.684259e+06  896040.00000  621000.000000  426529.000000   \n",
      "\n",
      "            PAY_AMT6  default.payment.next.month  \n",
      "count   30000.000000                30000.000000  \n",
      "mean     5215.502567                    0.221200  \n",
      "std     17777.465775                    0.415062  \n",
      "min         0.000000                    0.000000  \n",
      "25%       117.750000                    0.000000  \n",
      "50%      1500.000000                    0.000000  \n",
      "75%      4000.000000                    0.000000  \n",
      "max    528666.000000                    1.000000  \n",
      "\n",
      "[8 rows x 25 columns]\n",
      "0    23364\n",
      "1     6636\n",
      "Name: default.payment.next.month, dtype: int64\n"
     ]
    },
    {
     "data": {
      "image/png": "[encoded data removed]",
      "text/plain": [
       "<Figure size 432x432 with 1 Axes>"
      ]
     },
     "metadata": {
      "needs_background": "light"
     },
     "output_type": "display_data"
    },
    {
     "name": "stderr",
     "output_type": "stream",
     "text": [
      "/usr/local/lib/python3.6/dist-packages/sklearn/model_selection/_split.py:1978: FutureWarning: The default value of cv will change from 3 to 5 in version 0.22. Specify it explicitly to silence this warning.\n",
      "  warnings.warn(CV_WARNING, FutureWarning)\n"
     ]
    },
    {
     "name": "stdout",
     "output_type": "stream",
     "text": [
      "GridSearch 最优参数： {'svc__C': 1, 'svc__gamma': 0.01}\n",
      "GridSearch 最优分数：0.8174\n",
      " 准确率 0.8172\n"
     ]
    },
    {
     "name": "stderr",
     "output_type": "stream",
     "text": [
      "/usr/local/lib/python3.6/dist-packages/sklearn/model_selection/_split.py:1978: FutureWarning: The default value of cv will change from 3 to 5 in version 0.22. Specify it explicitly to silence this warning.\n",
      "  warnings.warn(CV_WARNING, FutureWarning)\n"
     ]
    },
    {
     "name": "stdout",
     "output_type": "stream",
     "text": [
      "GridSearch 最优参数： {'decisiontreeclassifier__max_depth': 6}\n",
      "GridSearch 最优分数：0.8186\n",
      " 准确率 0.8113\n"
     ]
    },
    {
     "name": "stderr",
     "output_type": "stream",
     "text": [
      "/usr/local/lib/python3.6/dist-packages/sklearn/model_selection/_split.py:1978: FutureWarning: The default value of cv will change from 3 to 5 in version 0.22. Specify it explicitly to silence this warning.\n",
      "  warnings.warn(CV_WARNING, FutureWarning)\n"
     ]
    },
    {
     "name": "stdout",
     "output_type": "stream",
     "text": [
      "GridSearch 最优参数： {'randomforestclassifier__n_estimators': 6}\n",
      "GridSearch 最优分数：0.7998\n",
      " 准确率 0.7994\n"
     ]
    },
    {
     "name": "stderr",
     "output_type": "stream",
     "text": [
      "/usr/local/lib/python3.6/dist-packages/sklearn/model_selection/_split.py:1978: FutureWarning: The default value of cv will change from 3 to 5 in version 0.22. Specify it explicitly to silence this warning.\n",
      "  warnings.warn(CV_WARNING, FutureWarning)\n"
     ]
    },
    {
     "name": "stdout",
     "output_type": "stream",
     "text": [
      "GridSearch 最优参数： {'kneighborsclassifier__n_neighbors': 8}\n",
      "GridSearch 最优分数：0.8040\n",
      " 准确率 0.8036\n"
     ]
    },
    {
     "name": "stderr",
     "output_type": "stream",
     "text": [
      "/usr/local/lib/python3.6/dist-packages/sklearn/model_selection/_split.py:1978: FutureWarning: The default value of cv will change from 3 to 5 in version 0.22. Specify it explicitly to silence this warning.\n",
      "  warnings.warn(CV_WARNING, FutureWarning)\n"
     ]
    },
    {
     "name": "stdout",
     "output_type": "stream",
     "text": [
      "GridSearch 最优参数： {'adaboostclassifier__n_estimators': 10}\n",
      "GridSearch 最优分数：0.8187\n",
      " 准确率 0.8129\n"
     ]
    }
   ],
   "source": [
    "# -*-coding:utf-8 -*- \n",
    "# 信用卡违约率分析\n",
    "import pandas as pd\n",
    "from sklearn.model_selection import learning_curve, train_test_split, GridSearchCV\n",
    "from sklearn.preprocessing import StandardScaler\n",
    "from sklearn.pipeline import Pipeline\n",
    "from sklearn.metrics import accuracy_score\n",
    "from sklearn.svm import SVC\n",
    "from sklearn.tree import DecisionTreeClassifier\n",
    "from sklearn.ensemble import RandomForestClassifier\n",
    "from sklearn.neighbors import KNeighborsClassifier\n",
    "from sklearn.ensemble import AdaBoostClassifier\n",
    "from matplotlib import pyplot as plt\n",
    "import seaborn as sns\n",
    "# 加载数据\n",
    "data = data = pd.read_csv('./UCI_Credit_Card.csv')\n",
    "# 数据探索\n",
    "print(data.shape) # 查看数据集大小\n",
    "print(data.describe()) # 数据集概览\n",
    "# 查看下一个月违约率的情况\n",
    "next_month = data['default.payment.next.month'].value_counts()\n",
    "print(next_month)\n",
    "df = pd.DataFrame({'default.payment.next.month': next_month.index, 'values': next_month.values})\n",
    "plt.rcParams['font.sans-serif'] = ['SimHei'] # 用于正常显示文标签\n",
    "plt.figure(figsize = (6,6))\n",
    "plt.title('信用卡违约率客户\\n (违约：1，守约：0)')\n",
    "sns.set_color_codes(\"pastel\")\n",
    "sns.barplot(x = 'default.payment.next.month', y = \"values\", data = df)\n",
    "locs, labels = plt.xticks()\n",
    "plt.show()\n",
    "# 特征选择，去掉ID字段、最后一个结果字段即可\n",
    "data.drop(['ID'], inplace=True, axis = 1) # ID 这个字段没有用\n",
    "target = data['default.payment.next.month'].values\n",
    "columns = data.columns.tolist()\n",
    "columns.remove('default.payment.next.month')\n",
    "features = data[columns].values\n",
    "# 30%作为测试集，其余作为训练集\n",
    "train_x, test_x, train_y, test_y = train_test_split(features, target, test_size=0.30, stratify = target, random_state = 1)\n",
    "\n",
    "# 构造各种分类器\n",
    "classifiers = [\n",
    "    SVC(random_state = 1, kernel = 'rbf'),\n",
    "    DecisionTreeClassifier(random_state = 1, criterion = 'gini'),\n",
    "    RandomForestClassifier(random_state = 1, criterion = 'gini'),\n",
    "    KNeighborsClassifier(metric = 'minkowski'),\n",
    "    AdaBoostClassifier(random_state = 1),  #保持变量一致\n",
    "]\n",
    "# 分类器名称\n",
    "classifier_names =[\n",
    "    'svc',\n",
    "    'decisiontreeclassifier',\n",
    "    'randomforestclassifier',\n",
    "    'kneighborsclassifier',\n",
    "    'adaboostclassifier',\n",
    "]\n",
    "# 分类器参数\n",
    "classifier_param_grid = [\n",
    "    {'svc__C':[1], 'svc__gamma':[0.01]},\n",
    "    {'decisiontreeclassifier__max_depth':[6,9,11]}, # 决策树中设置三种最大深度，\n",
    "    {'randomforestclassifier__n_estimators':[3,5,6]}, # 设置三个决策树的深度取值，\n",
    "    {'kneighborsclassifier__n_neighbors':[4,6,8]}, # 深度取值，\n",
    "    {'adaboostclassifier__n_estimators':[10,50,100]},\n",
    "]\n",
    "# 对具体的分类器进行GridSearchCV参数调优\n",
    "def GridSearchCV_work(pipeline, train_x, train_y, test_x, test_y, param_grid, score = 'accuracy'):\n",
    "    response = {}\n",
    "    gridsearch = GridSearchCV(estimator = pipeline, param_grid = param_grid, scoring = score)\n",
    "    # 寻找最优的参数 和最优的准确率分数\n",
    "    search = gridsearch.fit(train_x, train_y)\n",
    "    print(\"GridSearch 最优参数：\", search.best_params_)\n",
    "    print(\"GridSearch 最优分数：%0.4lf\" %search.best_score_) \n",
    "    predict_y = gridsearch.predict(test_x)\n",
    "    print(\" 准确率 %0.4lf\" %accuracy_score(test_y, predict_y))\n",
    "    response['predict_y'] = predict_y\n",
    "    response['accuracy_score'] = accuracy_score(test_y, predict_y)\n",
    "    return response\n",
    "\n",
    "for model, model_name, model_param_grid in zip(classifiers, classifier_names, classifier_param_grid):\n",
    "    pipeline = Pipeline([\n",
    "        ('scaler', StandardScaler()),\n",
    "        (model_name, model)\n",
    "    ])\n",
    "    result = GridSearchCV_work(pipeline, train_x, train_y, test_x, test_y, model_param_grid, score = 'accuracy')"
   ]
  },
  {
   "cell_type": "markdown",
   "metadata": {},
   "source": [
    "从上面的结果可以看出：除了SVM，AdaBoost的准确率是要比决策树，随机森林，KNN的准确率是要高的。\n",
    "\n",
    "## 对GridSearchCV的理解\n",
    "1、就是在之前的经验的基础上选择了一些较好的取值备选项，然后分别去尝试，得到一个好的性能的选项。比直接选择参数多了一些保障，但是也增加了一些计算负担。\n",
    "\n",
    "2、GridSearchCV本质是一种穷举法。"
   ]
  },
  {
   "cell_type": "markdown",
   "metadata": {},
   "source": []
  },
  {
   "cell_type": "code",
   "execution_count": null,
   "metadata": {},
   "outputs": [],
   "source": []
  },
  {
   "cell_type": "code",
   "execution_count": null,
   "metadata": {},
   "outputs": [],
   "source": []
  },
  {
   "cell_type": "code",
   "execution_count": null,
   "metadata": {},
   "outputs": [],
   "source": []
  },
  {
   "cell_type": "code",
   "execution_count": null,
   "metadata": {},
   "outputs": [],
   "source": []
  },
  {
   "cell_type": "code",
   "execution_count": null,
   "metadata": {},
   "outputs": [],
   "source": []
  },
  {
   "cell_type": "code",
   "execution_count": null,
   "metadata": {},
   "outputs": [],
   "source": []
  }
 ],
 "metadata": {
  "kernelspec": {
   "display_name": "Python 3",
   "language": "python",
   "name": "python3"
  },
  "language_info": {
   "codemirror_mode": {
    "name": "ipython",
    "version": 3
   },
   "file_extension": ".py",
   "mimetype": "text/x-python",
   "name": "python",
   "nbconvert_exporter": "python",
   "pygments_lexer": "ipython3",
   "version": "3.6.8"
  }
 },
 "nbformat": 4,
 "nbformat_minor": 2
}
